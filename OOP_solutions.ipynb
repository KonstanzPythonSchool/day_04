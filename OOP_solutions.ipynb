{
 "cells": [
  {
   "cell_type": "markdown",
   "metadata": {},
   "source": [
    "# Day 4. Object Oriented Programming"
   ]
  },
  {
   "cell_type": "markdown",
   "metadata": {},
   "source": [
    "_Object-oriented Programming_, or OOP for short, is a programming paradigm which provides a means of structuring programs so that properties and behaviors are bundled into individual _objects_.\n",
    "\n",
    "Another common programming paradigm is _procedural programming_ which structures a program like a recipe in that it provides a set of steps, in the form of functions and code blocks, which flow sequentially in order to complete a task.\n",
    "\n",
    "_Objects_ are at the center of the object-oriented programming paradigm, not only representing the data, as in procedural programming, but in the overall structure of the program as well.\n",
    "\n",
    "Focusing first on the data, each thing or object is an instance of some _class_.\n",
    "\n",
    "_Classes_ are used to create new user-defined data structures that contain arbitrary information about something.\n"
   ]
  },
  {
   "cell_type": "markdown",
   "metadata": {},
   "source": [
    "The simplest form of class definition looks like this:\n",
    "```python\n",
    "class ClassName:\n",
    "    <statement-1>\n",
    "    .\n",
    "    .\n",
    "    .\n",
    "    <statement-N>\n",
    "```\n",
    "In practice, the statements inside a class definition will usually be function definitions, but other statements are allowed."
   ]
  },
  {
   "cell_type": "markdown",
   "metadata": {},
   "source": [
    "## Class Objects\n",
    "\n",
    "Class objects support two kinds of operations: _attribute references_ and _instantiation_. \n",
    "\n",
    "_Attribute references_ use the standard syntax used for all attribute references in Python: `obj.name`."
   ]
  },
  {
   "cell_type": "code",
   "execution_count": 1,
   "metadata": {},
   "outputs": [],
   "source": [
    "#@solution\n",
    "class Dog:\n",
    "    \"\"\"A simple example class\n",
    "    \"\"\"\n",
    "    species = 'mammal'\n",
    "\n",
    "    def f():\n",
    "        print(\"This is a Dog class function!\")\n",
    "    "
   ]
  },
  {
   "cell_type": "markdown",
   "metadata": {},
   "source": [
    "then `Dog.species` and `Dog.f` are valid attribute references, returning a string and a function object, respectively. Class attributes can also be assigned to, so you can change the value of `Dog.species` by assignment. `__doc__` is also a valid attribute, returning the docstring belonging to the class: \"A simple example class\"."
   ]
  },
  {
   "cell_type": "markdown",
   "metadata": {},
   "source": [
    "Class _instantiation_ uses function notation. Just pretend that the class object is a parameterless function that returns a new instance of the class. For example to create a new instance of the class and assign this object to the local variable `d`:"
   ]
  },
  {
   "cell_type": "code",
   "execution_count": 2,
   "metadata": {},
   "outputs": [],
   "source": [
    "#@solution\n",
    "d = Dog()"
   ]
  },
  {
   "cell_type": "code",
   "execution_count": 3,
   "metadata": {},
   "outputs": [
    {
     "data": {
      "text/plain": [
       "<__main__.Dog instance at 0x7f3f590be908>"
      ]
     },
     "execution_count": 3,
     "metadata": {},
     "output_type": "execute_result"
    }
   ],
   "source": [
    "#@solution\n",
    "d"
   ]
  },
  {
   "cell_type": "code",
   "execution_count": 4,
   "metadata": {},
   "outputs": [
    {
     "data": {
      "text/plain": [
       "'mammal'"
      ]
     },
     "execution_count": 4,
     "metadata": {},
     "output_type": "execute_result"
    }
   ],
   "source": [
    "#@solution\n",
    "d.species"
   ]
  },
  {
   "cell_type": "markdown",
   "metadata": {},
   "source": [
    "The instantiation operation (`d = Dog()`) creates an _empty_ object. Many classes like to create objects with instances customized to a specific initial state. Therefore a class may define a special method named `__init__`, like this:"
   ]
  },
  {
   "cell_type": "markdown",
   "metadata": {},
   "source": [
    "### Class and Instance Variables\n",
    "\n",
    "Generally speaking, _instance_ variables are unique for each instance and _class_ variables are shared by all instances of the class:"
   ]
  },
  {
   "cell_type": "code",
   "execution_count": 5,
   "metadata": {},
   "outputs": [],
   "source": [
    "#@solution\n",
    "class Dog:\n",
    "    \"\"\"A simple example class\n",
    "    \"\"\"\n",
    "\n",
    "    species = 'mammal' # class variable shared by all instances\n",
    "\n",
    "    def __init__(self, name, age): # instance variable unique to each instance\n",
    "        self.name = name\n",
    "        self.age = age"
   ]
  },
  {
   "cell_type": "code",
   "execution_count": 6,
   "metadata": {},
   "outputs": [
    {
     "name": "stdout",
     "output_type": "stream",
     "text": [
      "Philo is 5 and Mikey is 6.\n",
      "Philo is a mammal\n"
     ]
    }
   ],
   "source": [
    "#@solution\n",
    "# Instantiate the Dog object\n",
    "philo = Dog(\"Philo\", 5)\n",
    "mikey = Dog(\"Mikey\", 6)\n",
    "\n",
    "# Access the instance attributes\n",
    "print(philo.name+\" is \"+str(philo.age)+\" and \"+mikey.name+\" is \"+str(mikey.age)+\".\")\n",
    "\n",
    "# Is Philo a mammal?\n",
    "if philo.species == \"mammal\":\n",
    "    print(philo.name+\" is a \"+philo.species)"
   ]
  },
  {
   "cell_type": "markdown",
   "metadata": {},
   "source": [
    "The attributes are passed to the `__init__` method, which gets called any time you create a new instance, attaching the name and age to the object. \n",
    "\n",
    "The first argument of every class method, including `__init__`, is always a reference to the current instance of the class (a Dog in this case). By convention, this argument is always named `self`. In the `__init__` method, `self` refers to the newly created object; in other class methods, it refers to the instance whose method was called. However it is nothing more than a convention: the name `self` has absolutely no special meaning to Python."
   ]
  },
  {
   "cell_type": "markdown",
   "metadata": {},
   "source": [
    "<div class=\"alert alert-block alert-info\">\n",
    "Using the same Dog class, instantiate three new dogs, each with a different age. Then write a function called, get_biggest_number(), that takes any number of ages (*args) and returns the oldest one. \n",
    "\n",
    "Then output the age of the oldest dog like so:\n",
    "\n",
    "`The oldest dog is ... years old.`\n",
    "\n",
    "</div>\n",
    "\n",
    "\n"
   ]
  },
  {
   "cell_type": "code",
   "execution_count": 7,
   "metadata": {},
   "outputs": [
    {
     "name": "stdout",
     "output_type": "stream",
     "text": [
      "The oldest dog is 7 years old.\n"
     ]
    }
   ],
   "source": [
    "#@solution\n",
    "\n",
    "class Dog:\n",
    "\n",
    "    species = 'mammal' \n",
    "\n",
    "    def __init__(self, name, age):\n",
    "        self.name = name\n",
    "        self.age = age\n",
    "\n",
    "\n",
    "# Instantiate the Dog object\n",
    "jake = Dog(\"Jake\", 7)\n",
    "doug = Dog(\"Doug\", 4)\n",
    "william = Dog(\"William\", 5)\n",
    "\n",
    "\n",
    "# Determine the oldest dog\n",
    "def get_biggest_number(*args):\n",
    "    return max(args)\n",
    "\n",
    "# Output\n",
    "print(\"The oldest dog is {} years old.\".format(\n",
    "    get_biggest_number(jake.age, doug.age, william.age)))"
   ]
  },
  {
   "cell_type": "markdown",
   "metadata": {},
   "source": [
    "Shared class variables can have possibly surprising effects with involving mutable objects such as `lists` and `dictionaries`. For example, the `tricks` list in the following code should not be used as a _class variable_ because just a single list would be shared by all Dog instances:"
   ]
  },
  {
   "cell_type": "code",
   "execution_count": 8,
   "metadata": {},
   "outputs": [],
   "source": [
    "#@solution\n",
    "class Dog:\n",
    "\n",
    "    tricks = []             # mistaken use of a class variable\n",
    "\n",
    "    def __init__(self, name):\n",
    "        self.name = name"
   ]
  },
  {
   "cell_type": "code",
   "execution_count": 9,
   "metadata": {},
   "outputs": [
    {
     "data": {
      "text/plain": [
       "['roll over', 'play dead']"
      ]
     },
     "execution_count": 9,
     "metadata": {},
     "output_type": "execute_result"
    }
   ],
   "source": [
    "fido = Dog('Fido')\n",
    "buddy = Dog('Buddy')\n",
    "fido.tricks.append('roll over')\n",
    "buddy.tricks.append('play dead')\n",
    "fido.tricks                # unexpectedly shared by all dogs"
   ]
  },
  {
   "cell_type": "markdown",
   "metadata": {},
   "source": [
    "<div class=\"alert alert-block alert-info\">\n",
    "Try to correct the class `Dog`, so that tricks would be specific for each dog. Hint: use an instance variable instead (see example with age).\n",
    "</div>"
   ]
  },
  {
   "cell_type": "code",
   "execution_count": 10,
   "metadata": {},
   "outputs": [],
   "source": [
    "#@solution\n",
    "class Dog:\n",
    "\n",
    "    def __init__(self, name):\n",
    "        self.name = name\n",
    "        self.tricks = []    # creates a new empty list for each dog\n",
    "\n"
   ]
  },
  {
   "cell_type": "code",
   "execution_count": 11,
   "metadata": {},
   "outputs": [
    {
     "data": {
      "text/plain": [
       "['roll over']"
      ]
     },
     "execution_count": 11,
     "metadata": {},
     "output_type": "execute_result"
    }
   ],
   "source": [
    "fido = Dog('Fido')\n",
    "buddy = Dog('Buddy')\n",
    "fido.tricks.append('roll over')\n",
    "buddy.tricks.append('play dead')     \n",
    "fido.tricks"
   ]
  },
  {
   "cell_type": "markdown",
   "metadata": {},
   "source": [
    "### Method Objects\n",
    "\n",
    "_Instance methods_ are defined inside a class and are used to get the contents of an instance. They can also be used to perform operations with the attributes of our objects. Like the `__init__` method, the first argument is always `self`. Methods may call other methods by using method attributes of the `self` argument."
   ]
  },
  {
   "cell_type": "code",
   "execution_count": 12,
   "metadata": {},
   "outputs": [
    {
     "name": "stdout",
     "output_type": "stream",
     "text": [
      "Mikey is 6 years old.\n",
      "Knows no tricks.\n",
      "Mikey says Gruff Gruff\n",
      "Mikey is 6 years old.\n",
      "Knows 1 trick(s):\n",
      "Can roll over\n"
     ]
    }
   ],
   "source": [
    "#@solution\n",
    "class Dog:\n",
    "\n",
    "    # Class Attribute\n",
    "    species = 'mammal'\n",
    "\n",
    "    # Initializer / Instance Attributes\n",
    "    def __init__(self, name, age):\n",
    "        self.name = name\n",
    "        self.age = age\n",
    "        self.tricks = [] \n",
    "        \n",
    "    # instance method\n",
    "    def add_trick(self, trick):\n",
    "        self.tricks.append(trick)\n",
    "        \n",
    "        # instance method\n",
    "    def count_tricks(self):\n",
    "        return len(self.tricks)\n",
    "        \n",
    "    # instance method\n",
    "    def speak(self, sound):\n",
    "        return \"{} says {}\".format(self.name, sound) \n",
    "    \n",
    "    \n",
    "    def description(self):\n",
    "        descr_string = self.name+\" is \"+str(self.age)+\" years old.\\n\"\n",
    "        if len(self.tricks) == 0:\n",
    "            descr_string += \"Knows no tricks.\"\n",
    "        else:\n",
    "            #call count_tricks() methods by using method attributes of the self argument\n",
    "            descr_string += \"Knows \"+ str(self.count_tricks())+\" trick(s):\\n\" \n",
    "            descr_string += \"Can\"\n",
    "            for trick in self.tricks:\n",
    "                descr_string += \" \" + trick\n",
    "        return descr_string\n",
    "\n",
    "# Instantiate the Dog object\n",
    "mikey = Dog(\"Mikey\", 6)\n",
    "\n",
    "# call our instance methods\n",
    "print(mikey.description())\n",
    "print(mikey.speak(\"Gruff Gruff\"))\n",
    "mikey.add_trick(\"roll over\")\n",
    "print(mikey.description())"
   ]
  },
  {
   "cell_type": "markdown",
   "metadata": {},
   "source": [
    "### Built-In Class Attributes\n",
    "\n",
    "Every Python class keeps following built-in attributes and they can be accessed using dot operator like any other attribute −\n",
    "\n",
    "`__dict__` − Dictionary containing the class's namespace.\n",
    "\n",
    "`__doc__` − Class documentation string or none, if undefined.\n",
    "\n",
    "`__name__` − Class name.\n",
    "\n",
    "`__module__` − Module name in which the class is defined. This attribute is \"__main__\" in interactive mode.\n",
    "\n",
    "`__bases__` − A possibly empty tuple containing the base classes, in the order of their occurrence in the base class list.\n"
   ]
  },
  {
   "cell_type": "markdown",
   "metadata": {},
   "source": [
    "<div class=\"alert alert-block alert-info\">\n",
    "Try to call this attributes on the `Dog` class.\n",
    "</div>"
   ]
  },
  {
   "cell_type": "code",
   "execution_count": null,
   "metadata": {},
   "outputs": [],
   "source": []
  },
  {
   "cell_type": "code",
   "execution_count": null,
   "metadata": {},
   "outputs": [],
   "source": []
  },
  {
   "cell_type": "markdown",
   "metadata": {},
   "source": [
    "_______________________________ Second part of a day __________________________________\n",
    "\n",
    "## OOPs Concepts:\n",
    "\n",
    "    Encapsulation\n",
    "    Abstraction\n",
    "    Inheritance\n",
    "    Polymorphism"
   ]
  },
  {
   "cell_type": "markdown",
   "metadata": {},
   "source": [
    "### Encapsulation\n",
    "\n",
    "Say we have a program. It has a few logically different objects which communicate with each other — according to the rules defined in the program.\n",
    "\n",
    "_Encapsulation_ is achieved when each object keeps its state private, inside a class. Other objects don’t have direct access to this state. Instead, they can only call a list of public functions — called methods.\n",
    "\n",
    "So, the object manages its own state via methods — and no other class can touch it unless explicitly allowed. If you want to communicate with the object, you should use the methods provided. But (by default), you can’t change the state. This is achieved using private variables and methods."
   ]
  },
  {
   "cell_type": "markdown",
   "metadata": {},
   "source": [
    "#### Private Variables\n",
    "“Private” instance variables that cannot be accessed except from inside an object __don’t__ exist in Python. However, there is a convention that is followed by most Python code: a name prefixed with an underscore (e.g. `_spam`) should be treated as a non-public part of the API (whether it is a function, a method or a data member). It should be considered an implementation detail and subject to change without notice.\n",
    "\n",
    "Since there is a valid use-case for class-private members (namely to avoid name clashes of names with names defined by subclasses), there is limited support for such a mechanism, called name _mangling_. Any identifier of the form `__spam` (at least two leading underscores, at most one trailing underscore) is textually replaced with `_classname__spam`, where classname is the current class name with leading underscore(s) stripped. This mangling is done without regard to the syntactic position of the identifier, as long as it occurs within the definition of a class."
   ]
  },
  {
   "cell_type": "code",
   "execution_count": 13,
   "metadata": {},
   "outputs": [],
   "source": [
    "#@solution\n",
    "class Dog:\n",
    "\n",
    "    species = 'mammal'\n",
    "    \n",
    "    __privateVar = 'private'\n",
    "\n",
    "    def __privateFunction(self):\n",
    "        print(\"You are calling the private function!\")"
   ]
  },
  {
   "cell_type": "code",
   "execution_count": 14,
   "metadata": {},
   "outputs": [],
   "source": [
    "#@solution\n",
    "d = Dog()"
   ]
  },
  {
   "cell_type": "code",
   "execution_count": 15,
   "metadata": {},
   "outputs": [
    {
     "ename": "SyntaxError",
     "evalue": "invalid syntax (<ipython-input-15-c2b26e3c6f00>, line 3)",
     "output_type": "error",
     "traceback": [
      "\u001b[0;36m  File \u001b[0;32m\"<ipython-input-15-c2b26e3c6f00>\"\u001b[0;36m, line \u001b[0;32m3\u001b[0m\n\u001b[0;31m    d.\u001b[0m\n\u001b[0m      ^\u001b[0m\n\u001b[0;31mSyntaxError\u001b[0m\u001b[0;31m:\u001b[0m invalid syntax\n"
     ]
    }
   ],
   "source": [
    "#@solution\n",
    "# check which of 3 instances can you call (press Tab after dot):\n",
    "d."
   ]
  },
  {
   "cell_type": "code",
   "execution_count": 16,
   "metadata": {},
   "outputs": [
    {
     "ename": "AttributeError",
     "evalue": "Dog instance has no attribute '__privateVar'",
     "output_type": "error",
     "traceback": [
      "\u001b[0;31m---------------------------------------------------------------------------\u001b[0m",
      "\u001b[0;31mAttributeError\u001b[0m                            Traceback (most recent call last)",
      "\u001b[0;32m<ipython-input-16-0eace7b931f3>\u001b[0m in \u001b[0;36m<module>\u001b[0;34m()\u001b[0m\n\u001b[1;32m      1\u001b[0m \u001b[0;31m#@solution\u001b[0m\u001b[0;34m\u001b[0m\u001b[0;34m\u001b[0m\u001b[0m\n\u001b[0;32m----> 2\u001b[0;31m \u001b[0md\u001b[0m\u001b[0;34m.\u001b[0m\u001b[0m__privateVar\u001b[0m\u001b[0;34m\u001b[0m\u001b[0m\n\u001b[0m",
      "\u001b[0;31mAttributeError\u001b[0m: Dog instance has no attribute '__privateVar'"
     ]
    }
   ],
   "source": [
    "#@solution\n",
    "d.__privateVar"
   ]
  },
  {
   "cell_type": "code",
   "execution_count": 17,
   "metadata": {},
   "outputs": [
    {
     "ename": "AttributeError",
     "evalue": "Dog instance has no attribute '__privateFunction'",
     "output_type": "error",
     "traceback": [
      "\u001b[0;31m---------------------------------------------------------------------------\u001b[0m",
      "\u001b[0;31mAttributeError\u001b[0m                            Traceback (most recent call last)",
      "\u001b[0;32m<ipython-input-17-3ffd4bcc8f83>\u001b[0m in \u001b[0;36m<module>\u001b[0;34m()\u001b[0m\n\u001b[1;32m      1\u001b[0m \u001b[0;31m#@solution\u001b[0m\u001b[0;34m\u001b[0m\u001b[0;34m\u001b[0m\u001b[0m\n\u001b[0;32m----> 2\u001b[0;31m \u001b[0md\u001b[0m\u001b[0;34m.\u001b[0m\u001b[0m__privateFunction\u001b[0m\u001b[0;34m(\u001b[0m\u001b[0;34m)\u001b[0m\u001b[0;34m\u001b[0m\u001b[0m\n\u001b[0m",
      "\u001b[0;31mAttributeError\u001b[0m: Dog instance has no attribute '__privateFunction'"
     ]
    }
   ],
   "source": [
    "#@solution\n",
    "d.__privateFunction()"
   ]
  },
  {
   "cell_type": "code",
   "execution_count": 18,
   "metadata": {},
   "outputs": [
    {
     "data": {
      "text/plain": [
       "'private'"
      ]
     },
     "execution_count": 18,
     "metadata": {},
     "output_type": "execute_result"
    }
   ],
   "source": [
    "#@solution\n",
    "d._Dog__privateVar"
   ]
  },
  {
   "cell_type": "code",
   "execution_count": 19,
   "metadata": {},
   "outputs": [
    {
     "name": "stdout",
     "output_type": "stream",
     "text": [
      "You are calling the private function!\n"
     ]
    }
   ],
   "source": [
    "#@solution\n",
    "d._Dog__privateFunction()"
   ]
  },
  {
   "cell_type": "markdown",
   "metadata": {},
   "source": [
    "Acknowledge that this is interesting, but promise to never, ever do it in real code. Private methods are private for a reason, but like many other things in Python, their privateness is ultimately a matter of convention, not force. "
   ]
  },
  {
   "cell_type": "code",
   "execution_count": 20,
   "metadata": {},
   "outputs": [],
   "source": [
    "#@solution\n",
    "class Dog:\n",
    "\n",
    "    species = 'mammal'\n",
    "    \n",
    "    __privateVar = 'private'\n",
    "\n",
    "    def __privateFunction(self):\n",
    "        print(\"You are calling the private function!\")\n",
    "        \n",
    "    def usePrivateFunction(self):\n",
    "        self.__privateFunction()"
   ]
  },
  {
   "cell_type": "code",
   "execution_count": 21,
   "metadata": {},
   "outputs": [
    {
     "name": "stdout",
     "output_type": "stream",
     "text": [
      "You are calling the private function!\n"
     ]
    }
   ],
   "source": [
    "#@solution\n",
    "d = Dog()\n",
    "d.usePrivateFunction()"
   ]
  },
  {
   "cell_type": "markdown",
   "metadata": {},
   "source": [
    "## Abstraction\n",
    "\n",
    "_Abstraction_ can be thought of as a natural extension of encapsulation. It is a process of hiding the implementation details from the user, only the functionality will be provided to the user.\n",
    "\n",
    "In object-oriented design, programs are often extremely large. And separate objects communicate with each other a lot. So maintaining a large codebase like this for years — with changes along the way — is difficult.\n",
    "\n",
    "Abstraction is a concept aiming to ease this problem.\n",
    "\n",
    "Applying abstraction means that each object should only expose a high-level mechanism for using it. This mechanism should hide internal implementation details. It should only reveal operations relevant for the other objects.\n",
    "\n",
    "In other words, the user will have the information on what the object does instead of how it does it."
   ]
  },
  {
   "cell_type": "markdown",
   "metadata": {},
   "source": [
    "<img src=\"cat.png\" alt=\"ipynb_to_py\" style=\"width: 650px;\"/>\n",
    "_Abstraction_ is outlined by the top left and top right images of the cat. The surgeon and the old lady designed (or visualized) the animal differently. In the same way, you would put different features in the Cat class, depending upon the need of the application."
   ]
  },
  {
   "cell_type": "markdown",
   "metadata": {},
   "source": [
    "### Abstraction Example: \n",
    "A Car has Engine, wheels and many other parts. When we write all the properties of the Car, Engine, and wheel in a single class, it would look this way:"
   ]
  },
  {
   "cell_type": "markdown",
   "metadata": {},
   "source": [
    "```python\n",
    "class Car():\n",
    "    def __init(self, price, name, color, engineCapacity, engineHorsePower, wheelName, wheelPrice):\n",
    "        self.price = price \n",
    "        self.name = name \n",
    "        self.color = color \n",
    "        self.engineCapacity = engineCapacity\n",
    "        self.engineHorsePower = engineHorsePower \n",
    "        self.wheelName = wheelName\n",
    "        self.wheelPrice = wheelPrice\n",
    "\n",
    "    def move(self):\n",
    "        #move forward \n",
    "\n",
    "    def rotate(self):\n",
    "        #Wheels method \n",
    "\n",
    "    def internalCombustion(self):\n",
    "        #Engine Method \n",
    "```"
   ]
  },
  {
   "cell_type": "markdown",
   "metadata": {},
   "source": [
    "In the above example, the attributes of wheel and engine are added to the Car type. As per the programming, this will not create any kind of issues. But when it comes to maintenance of the application, this becomes more complex."
   ]
  },
  {
   "cell_type": "markdown",
   "metadata": {},
   "source": [
    "Applying the abstraction with composition, the above example can be modified as given below:"
   ]
  },
  {
   "cell_type": "markdown",
   "metadata": {},
   "source": [
    "``` python\n",
    "class Car():\n",
    "    def __init(self, price, name, color, engine, wheel):\n",
    "        self.price = price \n",
    "        self.name = name \n",
    "        self.color = color \n",
    "        self.engine = engine # object of the Engine class\n",
    "        self.wheel = wheel # object of the Wheel class\n",
    "\n",
    "    def move(self):\n",
    "        #move forward \n",
    "\n",
    "class Engine():\n",
    "    def __init(self, engineCapacity, engineHorsePower): \n",
    "        self.engineCapacity = engineCapacity \n",
    "        self.engineHorsePower = engineHorsePower \n",
    "\n",
    "    def internalCombustion(self):\n",
    "        #Engine Method \n",
    "\n",
    "class Wheel():\n",
    "    def __init(self, engineCapacity, engineHorsePower): \n",
    "        self.wheelName = wheelName\n",
    "        self.wheelPrice = wheelPrice \n",
    "\n",
    "    def rotate(self):\n",
    "        #Wheels method \n",
    "```"
   ]
  },
  {
   "cell_type": "markdown",
   "metadata": {},
   "source": [
    "You can see that the attributes and methods related to the `Engine` and `Wheel` are moved to the respective classes.\n",
    "`Engine` and `Wheel` are referred from the `Car` type. When ever an instance of `Car` is created, both `Engine` and `Wheel` will be available for the `Car` and when there are changes to these Types (`Engine` and `Wheel`), changes will only be confined to these classes and will not affect the `Car` class."
   ]
  },
  {
   "cell_type": "markdown",
   "metadata": {},
   "source": [
    "Inharitance\n",
    "----\n",
    "_Inheritance is the process_ by which one class takes on the attributes and methods of another. Newly formed classes are called _child_ classes, and the classes that child classes are derived from are called _parent_ classes. Child classes override or extend the functionality (e.g., attributes and behaviors) of parent classes. In other words, child classes inherit all of the parent’s attributes and behaviors but can also specify different behavior to follow.\n",
    "\n",
    "``` python\n",
    "class DerivedClassName(BaseClassName [, Base2, Base3]):\n",
    "    <statement-1>\n",
    "    .\n",
    "    .\n",
    "    .\n",
    "    <statement-N>\n",
    "```"
   ]
  },
  {
   "cell_type": "code",
   "execution_count": 22,
   "metadata": {},
   "outputs": [],
   "source": [
    "#@solution\n",
    "# Parent class\n",
    "class Dog:\n",
    "\n",
    "    # Class attribute\n",
    "    species = 'mammal'\n",
    "\n",
    "    # Initializer / Instance attributes\n",
    "    def __init__(self, name, age):\n",
    "        self.name = name\n",
    "        self.age = age\n",
    "\n",
    "    # instance method\n",
    "    def description(self):\n",
    "        return \"{} is {} years old\".format(self.name, self.age)\n",
    "\n",
    "    # instance method\n",
    "    def speak(self, sound):\n",
    "        return \"{} says {}\".format(self.name, sound)\n",
    "\n",
    "\n",
    "# Child class (inherits from Dog class)\n",
    "class RussellTerrier(Dog):\n",
    "    def run(self, speed):\n",
    "        return \"{} runs {}\".format(self.name, speed)\n",
    "\n",
    "\n",
    "# Child class (inherits from Dog class)\n",
    "class Bulldog(Dog):\n",
    "    def run(self, speed):\n",
    "        return \"{} runs {}\".format(self.name, speed)"
   ]
  },
  {
   "cell_type": "code",
   "execution_count": 23,
   "metadata": {},
   "outputs": [
    {
     "name": "stdout",
     "output_type": "stream",
     "text": [
      "Jim is 12 years old\n",
      "Jim runs slowly\n"
     ]
    }
   ],
   "source": [
    "#@solution\n",
    "# Child classes inherit attributes and\n",
    "# behaviors from the parent class\n",
    "jim = Bulldog(\"Jim\", 12)\n",
    "print(jim.description())\n",
    "\n",
    "# Child classes have specific attributes\n",
    "# and behaviors as well\n",
    "print(jim.run(\"slowly\"))"
   ]
  },
  {
   "cell_type": "markdown",
   "metadata": {},
   "source": [
    "## Parent vs. Child Classes\n",
    "\n",
    "You can use `issubclass()` or `isinstance()` functions to check a relationships of two classes and instances.\n",
    "* The `issubclass(sub, sup)` boolean function returns `True`, if the given subclass `sub` is indeed a subclass of the superclass `sup`.\n",
    "* The `isinstance(obj, Class)` boolean function returns `True`, if obj is an instance of class `Class` or is an instance of a subclass of `Class`.\n"
   ]
  },
  {
   "cell_type": "code",
   "execution_count": 24,
   "metadata": {},
   "outputs": [],
   "source": [
    "#@solution\n",
    "# Parent class\n",
    "class Dog:\n",
    "\n",
    "    # Class attribute\n",
    "    species = 'mammal'\n",
    "\n",
    "    # Initializer / Instance attributes\n",
    "    def __init__(self, name, age):\n",
    "        self.name = name\n",
    "        self.age = age\n",
    "\n",
    "    # instance method\n",
    "    def description(self):\n",
    "        return \"{} is {} years old\".format(self.name, self.age)\n",
    "\n",
    "    # instance method\n",
    "    def speak(self, sound):\n",
    "        return \"{} says {}\".format(self.name, sound)\n",
    "\n",
    "\n",
    "# Child class (inherits from Dog() class)\n",
    "class RussellTerrier(Dog):\n",
    "    def run(self, speed):\n",
    "        return \"{} runs {}\".format(self.name, speed)\n",
    "\n",
    "\n",
    "# Child class (inherits from Dog() class)\n",
    "class Bulldog(Dog):\n",
    "    def run(self, speed):\n",
    "        return \"{} runs {}\".format(self.name, speed)"
   ]
  },
  {
   "cell_type": "code",
   "execution_count": 25,
   "metadata": {},
   "outputs": [
    {
     "data": {
      "text/plain": [
       "True"
      ]
     },
     "execution_count": 25,
     "metadata": {},
     "output_type": "execute_result"
    }
   ],
   "source": [
    "#@solution\n",
    "# Check if Bulldog is a subclass of Dog\n",
    "issubclass(Bulldog, Dog)"
   ]
  },
  {
   "cell_type": "markdown",
   "metadata": {},
   "source": [
    "<div class=\"alert alert-block alert-info\">\n",
    "Try to execute `issubclass` for a simple datatypes:\n",
    "\n",
    "    `issubclass(bool, int)`\n",
    "\n",
    "    `issubclass(float, int)`\n",
    "    \n",
    "Can you explain the output?\n",
    "</div>\n"
   ]
  },
  {
   "cell_type": "code",
   "execution_count": null,
   "metadata": {},
   "outputs": [],
   "source": []
  },
  {
   "cell_type": "code",
   "execution_count": 26,
   "metadata": {},
   "outputs": [
    {
     "name": "stdout",
     "output_type": "stream",
     "text": [
      "Jim is 12 years old\n",
      "Jim runs slowly\n"
     ]
    }
   ],
   "source": [
    "#@solution\n",
    "# Child classes inherit attributes and\n",
    "# behaviors from the parent class\n",
    "jim = Bulldog(\"Jim\", 12)\n",
    "print(jim.description())\n",
    "\n",
    "# Child classes have specific attributes\n",
    "# and behaviors as well\n",
    "print(jim.run(\"slowly\"))"
   ]
  },
  {
   "cell_type": "code",
   "execution_count": 27,
   "metadata": {},
   "outputs": [
    {
     "name": "stdout",
     "output_type": "stream",
     "text": [
      "True\n"
     ]
    }
   ],
   "source": [
    "#@solution\n",
    "# Is jim an instance of Dog()?\n",
    "print(isinstance(jim, Dog))"
   ]
  },
  {
   "cell_type": "code",
   "execution_count": 28,
   "metadata": {},
   "outputs": [
    {
     "name": "stdout",
     "output_type": "stream",
     "text": [
      "True\n"
     ]
    }
   ],
   "source": [
    "#@solution\n",
    "# Is julie an instance of Dog()?\n",
    "julie = Dog(\"Julie\", 100)\n",
    "print(isinstance(julie, Dog))"
   ]
  },
  {
   "cell_type": "code",
   "execution_count": 29,
   "metadata": {},
   "outputs": [
    {
     "name": "stdout",
     "output_type": "stream",
     "text": [
      "False\n"
     ]
    }
   ],
   "source": [
    "#@solution\n",
    "# Is johnny walker an instance of Bulldog()\n",
    "johnnywalker = RussellTerrier(\"Johnny Walker\", 4)\n",
    "print(isinstance(johnnywalker, Bulldog))"
   ]
  },
  {
   "cell_type": "code",
   "execution_count": 30,
   "metadata": {},
   "outputs": [
    {
     "ename": "TypeError",
     "evalue": "isinstance() arg 2 must be a class, type, or tuple of classes and types",
     "output_type": "error",
     "traceback": [
      "\u001b[0;31m---------------------------------------------------------------------------\u001b[0m",
      "\u001b[0;31mTypeError\u001b[0m                                 Traceback (most recent call last)",
      "\u001b[0;32m<ipython-input-30-c8f3a60b19f6>\u001b[0m in \u001b[0;36m<module>\u001b[0;34m()\u001b[0m\n\u001b[1;32m      1\u001b[0m \u001b[0;31m#@solution\u001b[0m\u001b[0;34m\u001b[0m\u001b[0;34m\u001b[0m\u001b[0m\n\u001b[1;32m      2\u001b[0m \u001b[0;31m# Is julie and instance of jim?\u001b[0m\u001b[0;34m\u001b[0m\u001b[0;34m\u001b[0m\u001b[0m\n\u001b[0;32m----> 3\u001b[0;31m \u001b[0;32mprint\u001b[0m\u001b[0;34m(\u001b[0m\u001b[0misinstance\u001b[0m\u001b[0;34m(\u001b[0m\u001b[0mjulie\u001b[0m\u001b[0;34m,\u001b[0m \u001b[0mjim\u001b[0m\u001b[0;34m)\u001b[0m\u001b[0;34m)\u001b[0m\u001b[0;34m\u001b[0m\u001b[0m\n\u001b[0m",
      "\u001b[0;31mTypeError\u001b[0m: isinstance() arg 2 must be a class, type, or tuple of classes and types"
     ]
    }
   ],
   "source": [
    "#@solution\n",
    "# Is julie and instance of jim?\n",
    "print(isinstance(julie, jim))"
   ]
  },
  {
   "cell_type": "markdown",
   "metadata": {},
   "source": [
    "There are different type of inheritance supported by python\n",
    "\n",
    "<img src=\"inheritance.jpeg\" alt=\"ipynb_to_py\" style=\"width: 650px;\"/> \n",
    "\n",
    "Inheritance is one of the most mis-used feature of OOPs by beginner programmers.\n",
    "\n",
    "TIP: Unless there is an absolute need for an inheritance, don’t use it!"
   ]
  },
  {
   "cell_type": "markdown",
   "metadata": {},
   "source": [
    "## Polymorphism: Overriding the Functionality of a Parent Class"
   ]
  },
  {
   "cell_type": "markdown",
   "metadata": {},
   "source": [
    "In object-oriented programming, _polymorphism_ (from the Greek meaning “having multiple forms”) is the characteristic of being able to assign a different meaning or usage to something in different contexts — specifically, to allow an entity such as a function, or an object to have more than one form."
   ]
  },
  {
   "cell_type": "code",
   "execution_count": 31,
   "metadata": {},
   "outputs": [],
   "source": [
    "#@solution\n",
    "class Car:\n",
    "    def __init__(self, name):    \n",
    "        self.name = name\n",
    " \n",
    "    def drive(self):             \n",
    "        raise NotImplementedError(\"Subclass must implement abstract method\")\n",
    " \n",
    "    def stop(self):             \n",
    "        raise NotImplementedError(\"Subclass must implement abstract method\")\n",
    " \n",
    "class Sportscar(Car):\n",
    "    def drive(self):\n",
    "        return 'Sportscar driving!'\n",
    " \n",
    "    def stop(self):\n",
    "        return 'Sportscar braking!'\n",
    " \n",
    "class Truck(Car):\n",
    "    def drive(self):\n",
    "        return 'Truck driving slowly because heavily loaded.'\n",
    " \n",
    "    def stop(self):\n",
    "        return 'Truck braking!'"
   ]
  },
  {
   "cell_type": "code",
   "execution_count": 32,
   "metadata": {},
   "outputs": [
    {
     "name": "stdout",
     "output_type": "stream",
     "text": [
      "Bananatruck: Truck driving slowly because heavily loaded.\n",
      "Orangetruck: Truck driving slowly because heavily loaded.\n",
      "Z3: Sportscar driving!\n"
     ]
    }
   ],
   "source": [
    "#@solution\n",
    "cars = [Truck('Bananatruck'),\n",
    "        Truck('Orangetruck'),\n",
    "        Sportscar('Z3')]\n",
    " \n",
    "for car in cars:\n",
    "    print(car.name + ': ' + car.drive())"
   ]
  },
  {
   "cell_type": "markdown",
   "metadata": {},
   "source": [
    "<div class=\"alert alert-block alert-info\">\n",
    "Create a `Pets` class that holds instances of dogs; this class is completely separate from the `Dog` class. In other words, the `Dog` class does not inherit from the `Pets` class. Then assign three dog instances to an instance of the `Pets` class. Add a function `addPets()` to `Pets` class, so that you could increase the number of pets with time. Next, add a `walk()` method to both the `Pets` and `Dog` classes so that when you call the method on the `Pets` class, each dog instance assigned to the `Pets` class will `walk()`. \n",
    "Start with the following code below.\n",
    "</div>\n",
    "```python\n",
    "# Parent class\n",
    "class Dog:\n",
    "\n",
    "    # Class attribute\n",
    "    species = 'mammal'\n",
    "\n",
    "    # Initializer / Instance attributes\n",
    "    def __init__(self, name, age):\n",
    "        self.name = name\n",
    "        self.age = age\n",
    "\n",
    "    # instance method\n",
    "    def description(self):\n",
    "        return \"{} is {} years old\".format(self.name, self.age)\n",
    "\n",
    "    # instance method\n",
    "    def speak(self, sound):\n",
    "        return \"{} says {}\".format(self.name, sound)\n",
    "\n",
    "# Child class (inherits from Dog class)\n",
    "class RussellTerrier(Dog):\n",
    "    def run(self, speed):\n",
    "        return \"{} runs {}\".format(self.name, speed)\n",
    "\n",
    "# Child class (inherits from Dog class)\n",
    "class Bulldog(Dog):\n",
    "    def run(self, speed):\n",
    "        return \"{} runs {}\".format(self.name, speed)\n",
    "\n",
    "```"
   ]
  },
  {
   "cell_type": "code",
   "execution_count": 33,
   "metadata": {},
   "outputs": [
    {
     "name": "stdout",
     "output_type": "stream",
     "text": [
      "Tom is walking!\n",
      "Fletcher is walking!\n",
      "Larry is walking!\n"
     ]
    }
   ],
   "source": [
    "#@solution\n",
    "\n",
    "# Parent class\n",
    "class Pets:\n",
    "\n",
    "    def __init__(self, dogs):\n",
    "        self.dogs = dogs\n",
    "        \n",
    "    def addPets(self, dog):\n",
    "        self.dogs.append(dog)\n",
    "\n",
    "    def walk(self):\n",
    "        for dog in self.dogs:\n",
    "            print(dog.walk())\n",
    "\n",
    "\n",
    "# Parent class\n",
    "class Dog:\n",
    "\n",
    "    # Class attribute\n",
    "    species = 'mammal'\n",
    "\n",
    "    # Initializer / instance attributes\n",
    "    def __init__(self, name, age):\n",
    "        self.name = name\n",
    "        self.age = age\n",
    "\n",
    "    # Instance method\n",
    "    def description(self):\n",
    "        return self.name, self.age\n",
    "\n",
    "    # Instance method\n",
    "    def speak(self, sound):\n",
    "        return \"%s says %s\" % (self.name, sound)\n",
    "\n",
    "    def walk(self):\n",
    "        return \"%s is walking!\" % (self.name)\n",
    "\n",
    "\n",
    "# Child class (inherits from Dog class)\n",
    "class RussellTerrier(Dog):\n",
    "    def run(self, speed):\n",
    "        return \"%s runs %s\" % (self.name, speed)\n",
    "\n",
    "\n",
    "# Child class (inherits from Dog class)\n",
    "class Bulldog(Dog):\n",
    "    def run(self, speed):\n",
    "        return \"%s runs %s\" % (self.name, speed)\n",
    "\n",
    "# Create instances of dogs\n",
    "my_dogs = [\n",
    "    Bulldog(\"Tom\", 6), \n",
    "    RussellTerrier(\"Fletcher\", 7), \n",
    "    Dog(\"Larry\", 9)\n",
    "]\n",
    "\n",
    "# Instantiate the Pet class\n",
    "my_pets = Pets(my_dogs)\n",
    "\n",
    "# Output\n",
    "my_pets.walk()"
   ]
  },
  {
   "cell_type": "code",
   "execution_count": null,
   "metadata": {},
   "outputs": [],
   "source": []
  },
  {
   "cell_type": "markdown",
   "metadata": {},
   "source": [
    "_________________________________________\n",
    "\n",
    "## Assignment 04:\n",
    "\n",
    "Make an animated plot, where different geometrical figures (rectangles, circles) are moving with given velocities. \n",
    "Each figure have it's own size, color and spead. It case of colision spead should be divided between coliding objects. \n",
    "\n",
    "This is a classical example, when object-oriented Programming programming is used.\n",
    "\n",
    "Today we will build all necessary parts of this programm.\n",
    "_____________"
   ]
  },
  {
   "cell_type": "markdown",
   "metadata": {},
   "source": [
    "Part of the home work: Moving figures\n",
    "----\n",
    "Let's write the classes `Rectangle`, `Circle`, which you will need for a home work. Think about the variables and functions, which each of them can have."
   ]
  },
  {
   "cell_type": "code",
   "execution_count": 34,
   "metadata": {},
   "outputs": [],
   "source": [
    "#@solution\n",
    "from matplotlib.patches import Circle as plt_Circle\n",
    "from matplotlib.patches import Polygon as plt_Polygon\n",
    "\n",
    "class Circle():\n",
    "    \n",
    "    XMAX = 1\n",
    "    YMAX = 1\n",
    "    \n",
    "    def __init__(self, x_coor, y_coor, radius, x_velocity, y_velocity, color):\n",
    "        self.x_coor = x_coor\n",
    "        self.y_coor = y_coor\n",
    "        self.x_velocity = x_velocity\n",
    "        self.y_velocity = y_velocity\n",
    "        self.color = color\n",
    "        self.radius = radius\n",
    "        \n",
    "    def type(self):\n",
    "        return \"Circle\"\n",
    "\n",
    "    def getArea(self):\n",
    "        return math.pi*(self.radius**2)\n",
    "    \n",
    "    def setVelocities(self, new_v_x, new_v_y):\n",
    "        self.x_velocity = new_v_x \n",
    "        self.y_velocity = new_v_y\n",
    "    \n",
    "    def createPatchOblect(self):\n",
    "        return plt_Circle((self.x_coor, self.y_coor), self.radius, color=self.color)\n",
    "    \n",
    "    def move(self):\n",
    "        self.x_coor += self.x_velocity \n",
    "        self.y_coor += self.y_velocity\n",
    "        # check the bounds\n",
    "        if self.x_coor+self.radius > self.XMAX or self.x_coor-self.radius < 0:\n",
    "                self.x_coor -= self.x_velocity\n",
    "                self.y_coor -= self.y_velocity\n",
    "                self.setVelocities(-self.x_velocity, self.y_velocity)\n",
    "        if self.y_coor+self.radius > self.YMAX or self.y_coor-self.radius < 0:\n",
    "                self.x_coor -= self.x_velocity\n",
    "                self.y_coor -= self.y_velocity\n",
    "                self.setVelocities(self.x_velocity, -self.y_velocity)\n",
    "\n",
    "\n",
    "    \n",
    "\n",
    "class Rectangle():\n",
    "    \n",
    "    XMAX = 1\n",
    "    YMAX = 1\n",
    "    \n",
    "    def __init__(self, x_coor, y_coor, width, height, x_velocity, y_velocity, color):\n",
    "        self.x_coor = x_coor # the coordinates of the centres of mass\n",
    "        self.y_coor = y_coor # the coordinates of the centres of mass\n",
    "        self.x_velocity = x_velocity # delta x: shift in one step in x coordinate\n",
    "        self.y_velocity = y_velocity # delta y: shift in one step in y coordinate\n",
    "        self.color = color\n",
    "        self.width = width\n",
    "        self.height = height\n",
    "\n",
    "    def getArea(self):\n",
    "        return self.width * self.height\n",
    "    \n",
    "    def getVertices(self):\n",
    "        return np.array([[self.x_coor - self.width/2., self.y_coor - self.height/2.],\n",
    "                        [self.x_coor + self.width/2., self.y_coor - self.height/2.],\n",
    "                        [self.x_coor + self.width/2., self.y_coor + self.height/2.],\n",
    "                        [self.x_coor - self.width/2., self.y_coor + self.height/2.]])\n",
    "    \n",
    "\n",
    "    def type(self):\n",
    "        return \"Rectangle\"\n",
    "        \n",
    "   \n",
    "    def setVelocities(self, new_v_x, new_v_y):\n",
    "        self.x_velocity = new_v_x \n",
    "        self.y_velocity = new_v_y \n",
    "    \n",
    "    def move(self):\n",
    "        self.x_coor += self.x_velocity \n",
    "        self.y_coor += self.y_velocity\n",
    "        # check the bounds\n",
    "        for v in self.getVertices():\n",
    "            if v[0] > self.XMAX or v[0] < 0:\n",
    "                self.x_coor -= self.x_velocity\n",
    "                self.setVelocities(-self.x_velocity, self.y_velocity)\n",
    "                self.y_coor -= self.y_velocity\n",
    "                break\n",
    "            if v[1] > self.YMAX or v[1] < 0:\n",
    "                self.y_coor -= self.y_velocity\n",
    "                self.setVelocities(self.x_velocity, -self.y_velocity)\n",
    "                self.x_coor -= self.x_velocity\n",
    "                break\n",
    "        \n",
    "    def updateVelocity(self, new_x_vel, new_y_vel):\n",
    "        self.x_velocity = -(self.x_velocity + new_x_vel)/2.\n",
    "        self.y_velocity = -(self.y_velocity + new_y_vel)/2.\n",
    "        \n",
    "       \n",
    "    def createPatchOblect(self):\n",
    "        return plt_Polygon(self.getVertices(), color=self.color)\n",
    "    \n",
    "    def isToBig(self):\n",
    "        if self.width > self.XMAX/4. or self.height > self.YMAX/4.:\n",
    "            return True\n",
    "\n",
    "    def scaleRectangle(self, factor):\n",
    "        self.width = self.width * factor\n",
    "        self.height = self.height * factor \n",
    "\n"
   ]
  },
  {
   "cell_type": "code",
   "execution_count": null,
   "metadata": {},
   "outputs": [],
   "source": []
  },
  {
   "cell_type": "code",
   "execution_count": 35,
   "metadata": {
    "scrolled": false
   },
   "outputs": [
    {
     "ename": "RuntimeError",
     "evalue": "Requested MovieWriter (ffmpeg) not available",
     "output_type": "error",
     "traceback": [
      "\u001b[0;31m---------------------------------------------------------------------------\u001b[0m",
      "\u001b[0;31mRuntimeError\u001b[0m                              Traceback (most recent call last)",
      "\u001b[0;32m<ipython-input-35-91a14fd387f0>\u001b[0m in \u001b[0;36m<module>\u001b[0;34m()\u001b[0m\n\u001b[1;32m     45\u001b[0m \u001b[0;34m\u001b[0m\u001b[0m\n\u001b[1;32m     46\u001b[0m \u001b[0;31m# Call function to display the animation\u001b[0m\u001b[0;34m\u001b[0m\u001b[0;34m\u001b[0m\u001b[0m\n\u001b[0;32m---> 47\u001b[0;31m \u001b[0mHTML\u001b[0m\u001b[0;34m(\u001b[0m\u001b[0mani\u001b[0m\u001b[0;34m.\u001b[0m\u001b[0mto_html5_video\u001b[0m\u001b[0;34m(\u001b[0m\u001b[0;34m)\u001b[0m\u001b[0;34m)\u001b[0m\u001b[0;34m\u001b[0m\u001b[0m\n\u001b[0m",
      "\u001b[0;32m/usr/local/lib/python2.7/dist-packages/matplotlib/animation.pyc\u001b[0m in \u001b[0;36mto_html5_video\u001b[0;34m(self, embed_limit)\u001b[0m\n\u001b[1;32m   1347\u001b[0m                 \u001b[0;31m# We create a writer manually so that we can get the\u001b[0m\u001b[0;34m\u001b[0m\u001b[0;34m\u001b[0m\u001b[0m\n\u001b[1;32m   1348\u001b[0m                 \u001b[0;31m# appropriate size for the tag\u001b[0m\u001b[0;34m\u001b[0m\u001b[0;34m\u001b[0m\u001b[0m\n\u001b[0;32m-> 1349\u001b[0;31m                 \u001b[0mWriter\u001b[0m \u001b[0;34m=\u001b[0m \u001b[0mwriters\u001b[0m\u001b[0;34m[\u001b[0m\u001b[0mrcParams\u001b[0m\u001b[0;34m[\u001b[0m\u001b[0;34m'animation.writer'\u001b[0m\u001b[0;34m]\u001b[0m\u001b[0;34m]\u001b[0m\u001b[0;34m\u001b[0m\u001b[0m\n\u001b[0m\u001b[1;32m   1350\u001b[0m                 writer = Writer(codec='h264',\n\u001b[1;32m   1351\u001b[0m                                 \u001b[0mbitrate\u001b[0m\u001b[0;34m=\u001b[0m\u001b[0mrcParams\u001b[0m\u001b[0;34m[\u001b[0m\u001b[0;34m'animation.bitrate'\u001b[0m\u001b[0;34m]\u001b[0m\u001b[0;34m,\u001b[0m\u001b[0;34m\u001b[0m\u001b[0m\n",
      "\u001b[0;32m/usr/local/lib/python2.7/dist-packages/matplotlib/animation.pyc\u001b[0m in \u001b[0;36m__getitem__\u001b[0;34m(self, name)\u001b[0m\n\u001b[1;32m    171\u001b[0m         \u001b[0;32mexcept\u001b[0m \u001b[0mKeyError\u001b[0m\u001b[0;34m:\u001b[0m\u001b[0;34m\u001b[0m\u001b[0m\n\u001b[1;32m    172\u001b[0m             raise RuntimeError(\n\u001b[0;32m--> 173\u001b[0;31m                 'Requested MovieWriter ({}) not available'.format(name))\n\u001b[0m\u001b[1;32m    174\u001b[0m \u001b[0;34m\u001b[0m\u001b[0m\n\u001b[1;32m    175\u001b[0m \u001b[0;34m\u001b[0m\u001b[0m\n",
      "\u001b[0;31mRuntimeError\u001b[0m: Requested MovieWriter (ffmpeg) not available"
     ]
    }
   ],
   "source": [
    "# Let's plot our objects\n",
    "import numpy as np\n",
    "from matplotlib.collections import PatchCollection\n",
    "from matplotlib import animation\n",
    "import matplotlib.pyplot as plt\n",
    "from IPython.display import HTML\n",
    "\n",
    "fig, ax = plt.subplots()\n",
    "\n",
    "\n",
    "N = 3\n",
    "x = np.random.rand(N)\n",
    "y = np.random.rand(N)\n",
    "radii = 0.1*np.random.rand(N)\n",
    "figures = []\n",
    "for x1, y1, r in zip(x, y, radii):\n",
    "    circle = Circle(x1, y1, r, np.random.rand(1)[0]/100, np.random.rand(1)[0]/100, 'red')\n",
    "    figures.append(circle)\n",
    "\n",
    "for i in range(N):\n",
    "    polygon = Rectangle(np.random.rand(1)[0],np.random.rand(1)[0], \n",
    "                        np.random.rand(1)[0]/10., np.random.rand(1)[0]/10., \n",
    "                        np.random.rand(1)[0]/100., np.random.rand(1)[0]/100., 'black')\n",
    "    figures.append(polygon)\n",
    "    \n",
    "patches = []\n",
    "for p in figures:\n",
    "    patches.append(p.createPatchOblect())\n",
    "    \n",
    "collection = PatchCollection(patches, alpha=0.4, match_original=True, animated=True)\n",
    "ax.add_collection(collection)\n",
    "\n",
    "def animate(frame):\n",
    "    patches = []\n",
    "    for p in figures:\n",
    "        p.move()\n",
    "        patches.append(p.createPatchOblect())\n",
    "    collection.set_paths(patches)\n",
    "    return [collection, ]\n",
    "\n",
    "ani = animation.FuncAnimation(fig, func=animate, frames=500,\n",
    "        interval=1e1, blit=True)\n",
    "\n",
    "plt.close(ani._fig)\n",
    "\n",
    "# Call function to display the animation\n",
    "HTML(ani.to_html5_video())"
   ]
  },
  {
   "cell_type": "code",
   "execution_count": null,
   "metadata": {},
   "outputs": [],
   "source": []
  },
  {
   "cell_type": "markdown",
   "metadata": {},
   "source": [
    "<div class=\"alert alert-block alert-info\">\n",
    "Using two examples above write `Triangle` class.\n",
    "Create objects few objects of this classes.\n",
    "</div>"
   ]
  }
 ],
 "metadata": {
  "kernelspec": {
   "display_name": "Python 3",
   "language": "python",
   "name": "python3"
  },
  "language_info": {
   "codemirror_mode": {
    "name": "ipython",
    "version": 2
   },
   "file_extension": ".py",
   "mimetype": "text/x-python",
   "name": "python",
   "nbconvert_exporter": "python",
   "pygments_lexer": "ipython2",
   "version": "2.7.12"
  }
 },
 "nbformat": 4,
 "nbformat_minor": 2
}
